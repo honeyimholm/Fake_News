{
 "cells": [
  {
   "cell_type": "code",
   "execution_count": 1,
   "metadata": {},
   "outputs": [],
   "source": [
    "import os\n",
    "import pickle\n",
    "import json\n",
    "from codecs import open\n",
    "from time import time\n",
    "import operator"
   ]
  },
  {
   "cell_type": "code",
   "execution_count": 2,
   "metadata": {},
   "outputs": [],
   "source": [
    "DATA_FOLDER = '/home/teven/fake_news/Wikidumps/'\n",
    "HIERARCHICAL_CLUSTER_FILE = os.path.join(DATA_FOLDER, 'hierarchical_clusters_mt1.json')\n",
    "TITLE_TO_PATH_FILE = os.path.join(DATA_FOLDER, 'title_to_path_mt1.json')\n",
    "DEGREES_FILE = os.path.join(DATA_FOLDER, 'degrees_mt1.json')"
   ]
  },
  {
   "cell_type": "code",
   "execution_count": 3,
   "metadata": {},
   "outputs": [],
   "source": [
    "hierarchical_clusters = json.load(open(HIERARCHICAL_CLUSTER_FILE, 'r'))\n",
    "title_to_path = json.load(open(TITLE_TO_PATH_FILE, 'r'))\n",
    "degrees = json.load(open(DEGREES_FILE, 'r'))"
   ]
  },
  {
   "cell_type": "code",
   "execution_count": 4,
   "metadata": {},
   "outputs": [],
   "source": [
    "def total_elements(nested_list):\n",
    "    if hasattr(nested_list, '__iter__'):\n",
    "        return sum([total_elements(item) for item in nested_list])\n",
    "    else:\n",
    "        return 1\n",
    "\n",
    "    \n",
    "def recursive_sort(nested_list):\n",
    "    if isinstance(nested_list, list):\n",
    "        nested_list.sort(key=total_elements, reverse=True)\n",
    "        for item in nested_list:\n",
    "            recursive_sort(item)\n",
    "    else:\n",
    "        return None\n",
    "    \n",
    "    \n",
    "def iterate_through_tree(nested_list, path=None):\n",
    "    if path is None:\n",
    "        path = tuple()\n",
    "    if isinstance(nested_list, list):\n",
    "        for i, sublist in enumerate(nested_list):\n",
    "            subpath = path + (i,)\n",
    "            for item in iterate_through_tree(sublist, subpath):\n",
    "                yield item\n",
    "    else:\n",
    "        yield nested_list, path\n",
    "        \n",
    "        \n",
    "def most_important_elements(nested_list, number=5, method='degree'):\n",
    "    if method == 'eigen':\n",
    "        centralities = eigenvectors\n",
    "    else:\n",
    "        centralities = degrees\n",
    "    cluster_centralities = {article : centralities[article] for article, path in iterate_through_tree(nested_list)}\n",
    "    most_important = dict(sorted(cluster_centralities.iteritems(), key=operator.itemgetter(1), reverse=True)[:number])\n",
    "    return most_important"
   ]
  },
  {
   "cell_type": "code",
   "execution_count": 5,
   "metadata": {},
   "outputs": [],
   "source": [
    "sizes = []\n",
    "for sublist in hierarchical_clusters:\n",
    "    sizes.append(total_elements(sublist))"
   ]
  },
  {
   "cell_type": "code",
   "execution_count": 12,
   "metadata": {},
   "outputs": [
    {
     "data": {
      "text/plain": [
       "[0, 16, 21, 10]"
      ]
     },
     "execution_count": 12,
     "metadata": {},
     "output_type": "execute_result"
    }
   ],
   "source": [
    "title_to_path['Alex Waibel']"
   ]
  },
  {
   "cell_type": "code",
   "execution_count": 13,
   "metadata": {},
   "outputs": [
    {
     "name": "stdout",
     "output_type": "stream",
     "text": [
      "[u'Universal translator', u'Hoshi Sato', u'Linda Park', u'Daniel Bess', u'Travis Mayweather', u'Jaynestown', u'Jibbigo', u'Speech translation', u'List of language interpreters in fiction', u'Our Mrs. Reynolds', u'Alex Waibel']\n"
     ]
    }
   ],
   "source": [
    "print hierarchical_clusters[0][16][21]"
   ]
  },
  {
   "cell_type": "code",
   "execution_count": 12,
   "metadata": {},
   "outputs": [
    {
     "name": "stdout",
     "output_type": "stream",
     "text": [
      "49641\n"
     ]
    }
   ],
   "source": [
    "print total_elements(hierarchical_clusters[2])"
   ]
  },
  {
   "cell_type": "code",
   "execution_count": 15,
   "metadata": {},
   "outputs": [
    {
     "name": "stdout",
     "output_type": "stream",
     "text": [
      "[u'Leonard Nimoy', u'Brent Spiner', u'Phoenix Comicon', u'Klingon', u'George Takei', u'Los Angeles High School', u'Felicia Day', u'Wil Wheaton', u'List of Star Trek characters (G\\u2013M)', u'Star Trek', u'Worf', u'Spock', u'List of Star Trek characters (N\\u2013S)', u'Star Trek Generations', u'Michael Dorn', u'Gene Roddenberry', u'James Cromwell', u'Star Trek Continues', u'The Lieutenant', u'Star Trek Online']\n"
     ]
    }
   ],
   "source": [
    "print most_important_elements(hierarchical_clusters[0][16], number=20).keys()"
   ]
  },
  {
   "cell_type": "code",
   "execution_count": null,
   "metadata": {},
   "outputs": [],
   "source": []
  },
  {
   "cell_type": "code",
   "execution_count": null,
   "metadata": {},
   "outputs": [],
   "source": []
  }
 ],
 "metadata": {
  "kernelspec": {
   "display_name": "Python 3",
   "language": "python",
   "name": "python3"
  },
  "language_info": {
   "codemirror_mode": {
    "name": "ipython",
    "version": 3
   },
   "file_extension": ".py",
   "mimetype": "text/x-python",
   "name": "python",
   "nbconvert_exporter": "python",
   "pygments_lexer": "ipython3",
   "version": "3.6.4"
  }
 },
 "nbformat": 4,
 "nbformat_minor": 2
}
